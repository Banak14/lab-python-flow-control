{
 "cells": [
  {
   "cell_type": "markdown",
   "id": "d3bfc191-8885-42ee-b0a0-bbab867c6f9f",
   "metadata": {
    "tags": []
   },
   "source": [
    "# Lab | Flow Control"
   ]
  },
  {
   "cell_type": "markdown",
   "id": "3851fcd1-cf98-4653-9c89-e003b7ec9400",
   "metadata": {},
   "source": [
    "## Exercise: Managing Customer Orders Optimized\n",
    "\n",
    "In the last lab, you were starting an online store that sells various products. To ensure smooth operations, you developed a program that manages customer orders and inventory.\n",
    "\n",
    "You did so without using flow control. Let's go a step further and improve this code.\n",
    "\n",
    "Follow the steps below to complete the exercise:\n",
    "\n",
    "1. Look at your code from the lab data structures, and improve repeated code with loops.\n",
    "\n",
    "2. Instead of asking the user to input the name of three products that a customer wants to order, do the following:\n",
    "    \n",
    "    a. Prompt the user to enter the name of a product that a customer wants to order.\n",
    "    \n",
    "    b. Add the product name to the \"customer_orders\" set.\n",
    "    \n",
    "    c. Ask the user if they want to add another product (yes/no).\n",
    "    \n",
    "    d. Continue the loop until the user does not want to add another product.\n",
    "\n",
    "3. Instead of updating the inventory by subtracting 1 from the quantity of each product, only do it for  the products that were ordered (those in \"customer_orders\")."
   ]
  },
  {
   "cell_type": "code",
   "execution_count": null,
   "id": "4863466f-b0b4-4a28-acad-429c2d8571c2",
   "metadata": {},
   "outputs": [],
   "source": [
    "products = [\"t-shirt\", \"mug\", \"hat\", \"book\", \"keychain\"]\n",
    "inventory = {product: int(input(f\"Enter the quantity for {product}: \")) for product in products}\n",
    "\n",
    "print(\"Initial Inventory:\", inventory)\n",
    "\n",
    "customer_order = set()\n",
    "total_quantity_ordered = 0\n",
    "\n",
    "while True:\n",
    "    choice = input(f\"Please select a product from the list {products}: \").lower()\n",
    "    \n",
    "    if choice in products and choice not in customer_order:\n",
    "        customer_order.add(choice)\n",
    "        print(f\"Current selection: {customer_order}\")\n",
    "        total_quantity_ordered += inventory[choice]\n",
    "        \n",
    "        add_more = input(\"Do you want to add another product? (yes/no): \").lower()\n",
    "        if add_more != \"yes\":\n",
    "            break  # Exit the loop if the user doesn't want to add more products\n",
    "\n",
    "    elif choice not in products:\n",
    "        print(\"This product is not in the list.\")\n",
    "    else:\n",
    "        print(\"You have already chosen this product, please choose another item from the list.\")\n",
    "        \n",
    "print(\"Congratulations on your order:\", customer_order)\n",
    "\n",
    "# Update inventory by subtracting 1 from the quantity for each ordered product\n",
    "for product in customer_order:\n",
    "    inventory[product] -= 1\n",
    "\n",
    "total_available_products = sum(inventory.values())\n",
    "percentage_ordered = (total_quantity_ordered / total_available_products) * 100\n",
    "\n",
    "order_status = {\n",
    "    \"total_products_ordered\": total_quantity_ordered,\n",
    "    \"percentage_ordered\": percentage_ordered\n",
    "}\n",
    "\n",
    "print(f\"Order Status: {order_status}\")\n",
    "\n",
    "print(\"Updated Inventory:\")\n",
    "for product, quantity in inventory.items():\n",
    "    print(f\"{product}: {quantity}\")\n"
   ]
  },
  {
   "cell_type": "code",
   "execution_count": null,
   "id": "671f8dba-19f6-4bd5-a1c8-18322a275226",
   "metadata": {},
   "outputs": [],
   "source": []
  }
 ],
 "metadata": {
  "kernelspec": {
   "display_name": "Python 3 (ipykernel)",
   "language": "python",
   "name": "python3"
  },
  "language_info": {
   "codemirror_mode": {
    "name": "ipython",
    "version": 3
   },
   "file_extension": ".py",
   "mimetype": "text/x-python",
   "name": "python",
   "nbconvert_exporter": "python",
   "pygments_lexer": "ipython3",
   "version": "3.12.4"
  }
 },
 "nbformat": 4,
 "nbformat_minor": 5
}
